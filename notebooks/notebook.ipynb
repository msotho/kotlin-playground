{
 "cells": [
  {
   "cell_type": "code",
   "execution_count": 1,
   "metadata": {
    "collapsed": true,
    "ExecuteTime": {
     "end_time": "2023-07-26T17:30:20.918578Z",
     "start_time": "2023-07-26T17:30:14.832863Z"
    }
   },
   "outputs": [
    {
     "name": "stdout",
     "output_type": "stream",
     "text": [
      "             fromTo flightNumber recentDelays             airline\n",
      " 0     LoNDon_paris      10045,0        23,47              KLM(!)\n",
      " 1     MAdrid_miLAN          NaN         null   {Air France} (12)\n",
      " 2 londON_StockhOlm      10065,0   24, 43, 87 (British Airways. )\n",
      " 3   Budapest_PaRis          NaN           13      12. Air France\n",
      " 4  Brussels_londOn      10085,0       67, 32         'Swiss Air'\n",
      "\n"
     ]
    }
   ],
   "source": [
    "%use dataframe\n",
    "\n",
    "val fromTo by columnOf(\"LoNDon_paris\", \"MAdrid_miLAN\", \"londON_StockhOlm\", \"Budapest_PaRis\", \"Brussels_londOn\")\n",
    "val flightNumber by columnOf(10045.0, Double.NaN, 10065.0, Double.NaN, 10085.0)\n",
    "val recentDelays by columnOf(\"23,47\", null, \"24, 43, 87\", \"13\", \"67, 32\")\n",
    "val airline by columnOf(\"KLM(!)\", \"{Air France} (12)\", \"(British Airways. )\", \"12. Air France\", \"'Swiss Air'\")\n",
    "\n",
    "val df = dataFrameOf(fromTo, flightNumber, recentDelays, airline)\n",
    "\n",
    "df.print()"
   ]
  },
  {
   "cell_type": "code",
   "execution_count": null,
   "outputs": [],
   "source": [],
   "metadata": {
    "collapsed": false
   }
  }
 ],
 "metadata": {
  "kernelspec": {
   "display_name": "Kotlin",
   "language": "kotlin",
   "name": "kotlin"
  },
  "language_info": {
   "name": "kotlin",
   "version": "1.8.20",
   "mimetype": "text/x-kotlin",
   "file_extension": ".kt",
   "pygments_lexer": "kotlin",
   "codemirror_mode": "text/x-kotlin",
   "nbconvert_exporter": ""
  },
  "ktnbPluginMetadata": {
   "isAddProjectLibrariesToClasspath": false
  }
 },
 "nbformat": 4,
 "nbformat_minor": 0
}
